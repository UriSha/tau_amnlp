{
 "cells": [
  {
   "cell_type": "code",
   "execution_count": 1,
   "metadata": {},
   "outputs": [],
   "source": [
    "import statistics\n",
    "import torch\n",
    "import torch.nn as nn\n",
    "from torch.utils import data\n",
    "\n",
    "import numpy as np\n",
    "import torch.nn.functional as F\n",
    "from tqdm import tqdm"
   ]
  },
  {
   "cell_type": "code",
   "execution_count": 2,
   "metadata": {},
   "outputs": [
    {
     "name": "stderr",
     "output_type": "stream",
     "text": [
      "[nltk_data] Downloading package semcor to\n",
      "[nltk_data]     /Users/urisherman/nltk_data...\n",
      "[nltk_data]   Package semcor is already up-to-date!\n"
     ]
    }
   ],
   "source": [
    "import data_loader\n",
    "\n",
    "raw_dataset, tokens_vocab, y_vocab = data_loader.load_raw_data(S=100)"
   ]
  },
  {
   "cell_type": "code",
   "execution_count": 3,
   "metadata": {},
   "outputs": [
    {
     "name": "stdout",
     "output_type": "stream",
     "text": [
      "[23, 24, 25, 5, 26, 27, 28, 29, 18, 30, 31, 32, 33, 34, 35, 36, 37, 9, 30, 14, 38, 30, 39, 40, 41, 9, 30, 31, 9, 10, 42, 30, 43, 26, 34, 30, 14, 44, 45]\n",
      "['The', 'jury', 'further', 'said', 'in', 'term', 'end', 'presentments', 'that', 'the', 'City', 'Executive', 'Committee', 'which', 'had', 'overall', 'charge', 'of', 'the', 'election', 'deserves', 'the', 'praise', 'and', 'thanks', 'of', 'the', 'City', 'of', 'Atlanta', 'for', 'the', 'manner', 'in', 'which', 'the', 'election', 'was', 'conducted']\n",
      "[4, 13, 14, 2, 4, 15, 16, 17, 4, 4, 1, 1, 1, 4, 18, 19, 20, 4, 4, 21, 22, 4, 23, 4, 24, 4, 4, 25, 25, 25, 4, 4, 26, 4, 4, 4, 21, 4, 27]\n",
      "['no_sense', 'jury.n.01_jury', 'far.r.02_far', 'state.v.01_say', 'no_sense', 'term.n.02_term', 'end.n.02_end', 'presentment.n.01_presentment', 'no_sense', 'no_sense', 'group.n.01_group', 'group.n.01_group', 'group.n.01_group', 'no_sense', 'own.v.01_have', 'overall.s.02_overall', 'mission.n.03_charge', 'no_sense', 'no_sense', 'election.n.01_election', 'deserve.v.01_deserve', 'no_sense', 'praise.n.01_praise', 'no_sense', 'thanks.n.01_thanks', 'no_sense', 'no_sense', 'location.n.01_location', 'location.n.01_location', 'location.n.01_location', 'no_sense', 'no_sense', 'manner.n.01_manner', 'no_sense', 'no_sense', 'no_sense', 'election.n.01_election', 'no_sense', 'conduct.v.01_conduct']\n"
     ]
    }
   ],
   "source": [
    "idx = 1\n",
    "print(raw_dataset['int_sentences'][idx])\n",
    "print(raw_dataset['str_sentences'][idx])\n",
    "print(raw_dataset['int_labels'][idx])\n",
    "print(raw_dataset['str_labels'][idx])"
   ]
  },
  {
   "cell_type": "code",
   "execution_count": 4,
   "metadata": {},
   "outputs": [
    {
     "data": {
      "text/plain": [
       "device(type='cpu')"
      ]
     },
     "execution_count": 4,
     "metadata": {},
     "output_type": "execute_result"
    }
   ],
   "source": [
    "if torch.cuda.is_available():\n",
    "    device = torch.device(\"cuda\")\n",
    "else:\n",
    "    device = torch.device(\"cpu\")\n",
    "\n",
    "device"
   ]
  },
  {
   "cell_type": "code",
   "execution_count": 5,
   "metadata": {},
   "outputs": [],
   "source": [
    "class WSDModel(nn.Module):\n",
    "    def __init__(self, V, Y, D=300):\n",
    "        super(WSDModel, self).__init__()\n",
    "        self.E_v = nn.Parameter(torch.randn(V, D, requires_grad=True, device=device))\n",
    "        self.E_y = nn.Parameter(torch.randn(Y, D, requires_grad=True, device=device))\n",
    "        self.W_A = nn.Parameter(torch.randn(D, D, requires_grad=True, device=device))\n",
    "        self.W_O = nn.Parameter(torch.randn(D, D, requires_grad=True, device=device))\n",
    "\n",
    "    def attention(self, X, Q):\n",
    "        a = torch.nn.Softmax(dim=2)(Q @ self.W_A @ X.permute(0, 2, 1))\n",
    "        return a @ X @ self.W_O\n",
    "    \n",
    "    def forward(self, M_s, M_q):\n",
    "        X = M_s @ self.E_v\n",
    "        Q = M_q @ self.E_v\n",
    "\n",
    "        Q_c = self.attention(X, Q)\n",
    "        H = F.relu(Q_c + Q)\n",
    "        y_logits = (H @ self.E_y.T).squeeze()\n",
    "        return y_logits"
   ]
  },
  {
   "cell_type": "code",
   "execution_count": 6,
   "metadata": {},
   "outputs": [],
   "source": [
    "V = tokens_vocab.size()\n",
    "Y = y_vocab.size()\n",
    "\n",
    "model = WSDModel(V, Y, D=300)\n",
    "print(f'V={V}, Y={Y}')"
   ]
  },
  {
   "cell_type": "code",
   "execution_count": 7,
   "metadata": {},
   "outputs": [],
   "source": [
    "wsd_dataset = data_loader.WSDDataset(raw_dataset, V, N=100)\n",
    "training_generator = data.DataLoader(\n",
    "    wsd_dataset, \n",
    "    batch_size=64, \n",
    "    shuffle=True,\n",
    "    num_workers=4\n",
    ")"
   ]
  },
  {
   "cell_type": "code",
   "execution_count": 8,
   "metadata": {},
   "outputs": [
    {
     "name": "stderr",
     "output_type": "stream",
     "text": [
      "[0] loss: 429.640: 100%|██████████| 35/35 [00:02<00:00, 13.98it/s]\n"
     ]
    }
   ],
   "source": [
    "ce_loss = nn.CrossEntropyLoss()\n",
    "optimizer = torch.optim.Adam(model.parameters(), lr=5e-3)\n",
    "\n",
    "losses = []\n",
    "for epoch in range(1):\n",
    "    with tqdm(training_generator) as prg_train:\n",
    "        for M_s, M_q, y_true in prg_train:\n",
    "            M_s, M_q, y_true = M_s.to(device), M_q.to(device), y_true.to(device)\n",
    "\n",
    "            ## SHAPES:\n",
    "            # M_s     --> [B, N, V]\n",
    "            # M_q     --> [B, 1, V]\n",
    "            # y_true  --> [B]\n",
    "            \n",
    "            optimizer.zero_grad()\n",
    "\n",
    "            y_logits = model.forward(M_s, M_q)\n",
    "\n",
    "            loss = ce_loss(y_logits, y_true)\n",
    "            loss.backward()\n",
    "            optimizer.step()\n",
    "\n",
    "            losses.append(loss.item())\n",
    "            running_mean_loss = statistics.mean(losses[-min(len(losses), 1000):])\n",
    "            status_str = f'[{epoch}] loss: {running_mean_loss:.3f}'\n",
    "            prg_train.set_description(status_str)"
   ]
  },
  {
   "cell_type": "code",
   "execution_count": 9,
   "metadata": {},
   "outputs": [
    {
     "data": {
      "image/png": "[encoded data removed]",
      "text/plain": [
       "<Figure size 1080x360 with 1 Axes>"
      ]
     },
     "metadata": {
      "needs_background": "light"
     },
     "output_type": "display_data"
    }
   ],
   "source": [
    "import matplotlib.pyplot as plt\n",
    "\n",
    "fig = plt.figure(figsize=(15, 5))\n",
    "\n",
    "plt.plot(losses, '-');"
   ]
  },
  {
   "cell_type": "code",
   "execution_count": null,
   "metadata": {},
   "outputs": [],
   "source": []
  }
 ],
 "metadata": {
  "kernelspec": {
   "display_name": "tau_nlp",
   "language": "python",
   "name": "tau_nlp"
  },
  "language_info": {
   "codemirror_mode": {
    "name": "ipython",
    "version": 3
   },
   "file_extension": ".py",
   "mimetype": "text/x-python",
   "name": "python",
   "nbconvert_exporter": "python",
   "pygments_lexer": "ipython3",
   "version": "3.8.1"
  }
 },
 "nbformat": 4,
 "nbformat_minor": 4
}
